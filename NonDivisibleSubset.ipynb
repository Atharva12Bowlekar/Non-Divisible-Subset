{
 "cells": [
  {
   "cell_type": "code",
   "execution_count": 30,
   "metadata": {},
   "outputs": [],
   "source": [
    "def nonDivisibleSubset(k, s):\n",
    "    m=0\n",
    "    t=[0]*k         \n",
    "    for i in s:\n",
    "        a=i%k\n",
    "        t[a]=t[a]+1         \n",
    "    counts=0            \n",
    "    counts=counts+min(t[0],1)\n",
    "    for i in range(1,(k//2)+1):\n",
    "        counts = counts + max(t[i],t[k-i])    \n",
    "    if(k%2==0):\n",
    "        m=t[k//2]-1\n",
    "        counts=counts-m\n",
    "    return counts"
   ]
  },
  {
   "cell_type": "code",
   "execution_count": 31,
   "metadata": {},
   "outputs": [
    {
     "data": {
      "text/plain": [
       "3"
      ]
     },
     "execution_count": 31,
     "metadata": {},
     "output_type": "execute_result"
    }
   ],
   "source": [
    "nonDivisibleSubset(3,[1,7,2,4])"
   ]
  },
  {
   "cell_type": "raw",
   "metadata": {},
   "source": [
    "https://youtu.be/NvuzTl-jTRY\n",
    "    \n",
    "Easiest explanation given here!!!!!!!!!!!!!!"
   ]
  }
 ],
 "metadata": {
  "kernelspec": {
   "display_name": "Python 3",
   "language": "python",
   "name": "python3"
  },
  "language_info": {
   "codemirror_mode": {
    "name": "ipython",
    "version": 3
   },
   "file_extension": ".py",
   "mimetype": "text/x-python",
   "name": "python",
   "nbconvert_exporter": "python",
   "pygments_lexer": "ipython3",
   "version": "3.8.3"
  }
 },
 "nbformat": 4,
 "nbformat_minor": 4
}
